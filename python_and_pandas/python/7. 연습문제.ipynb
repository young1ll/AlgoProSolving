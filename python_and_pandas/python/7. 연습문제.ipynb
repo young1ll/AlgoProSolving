{
 "cells": [
  {
   "cell_type": "markdown",
   "id": "609a822d",
   "metadata": {},
   "source": [
    "1. 문자열 포멧팅\n",
    "\n",
    "다음의 코드를 입력하고, 활용해서 주어진 결과를 3가지 방법으로 만들어 주세요.\n",
    "\n",
    "```python\n",
    "주머니 = 90\n",
    "지갑 = 120\n",
    "통장 = 140\n",
    "\n",
    "총액 = 주머니 + 지갑 + 통장\n",
    "\n",
    "이름 = \"짱구\"\n",
    "```\n",
    "\n",
    "print 결과 :\n",
    "\n",
    "`짱구는 주머니에 90원, 지갑에 120원, 통장에 140원이 있다. 총합 350원이다.`\n",
    "\n",
    "아래 3가지 방법을 이용해 같은 결과를 만들어 주세요.\n",
    "\n",
    "1. ',' 로 구분하는 방법\n",
    "2. '+'를 이용하는 방법\n",
    "3. formatting 기법을 이용하는 방법"
   ]
  },
  {
   "cell_type": "code",
   "execution_count": 1,
   "id": "3cb28b19",
   "metadata": {},
   "outputs": [],
   "source": [
    "# 코드 입력하기\n",
    "\n",
    "주머니 = 90\n",
    "지갑 = 120\n",
    "통장 = 140\n",
    "\n",
    "총액 = 주머니 + 지갑 + 통장\n",
    "\n",
    "이름 = \"짱구\""
   ]
  },
  {
   "cell_type": "code",
   "execution_count": null,
   "id": "7048a6d2",
   "metadata": {},
   "outputs": [],
   "source": []
  },
  {
   "cell_type": "markdown",
   "id": "425926f9",
   "metadata": {},
   "source": [
    "  "
   ]
  },
  {
   "cell_type": "markdown",
   "id": "3788c2c2",
   "metadata": {},
   "source": [
    "  "
   ]
  },
  {
   "cell_type": "markdown",
   "id": "8f316b7a",
   "metadata": {},
   "source": [
    "  "
   ]
  },
  {
   "cell_type": "markdown",
   "id": "444f0170",
   "metadata": {},
   "source": [
    "2. 문자열 관련 메서드\n",
    "\n",
    "적절한 함수를 사용해서 다음과 같은 문자열을 바꿔주세요.\n",
    "\n",
    "\n",
    "```python\n",
    "korean = \"가 나 다 라 마 바 사\"\n",
    "```\n",
    "\n",
    "결과 : `\"가-나-다-라-마-바-사\"`\n",
    "\n",
    "hint : 공백을 \\- 으로 **바꾸기** -> 구글링: 파이썬 문자열 교체"
   ]
  },
  {
   "cell_type": "code",
   "execution_count": null,
   "id": "330a69e5",
   "metadata": {},
   "outputs": [],
   "source": [
    "# 코드 입력하기\n",
    "korean = \"가 나 다 라 마 바 사\""
   ]
  },
  {
   "cell_type": "markdown",
   "id": "da5d27f8",
   "metadata": {},
   "source": [
    "  "
   ]
  },
  {
   "cell_type": "markdown",
   "id": "d3bd63d8",
   "metadata": {},
   "source": [
    "  "
   ]
  },
  {
   "cell_type": "markdown",
   "id": "9a9760c2",
   "metadata": {},
   "source": [
    "  "
   ]
  },
  {
   "cell_type": "markdown",
   "id": "b7590ed0",
   "metadata": {},
   "source": [
    "3. 리스트 가공 + 조건&반복\n",
    "\n",
    "num 이라는 변수에 1~10까지의 숫자를 입력합니다.  \n",
    "`num을 활용해서` 짝수만 있는 리스트(even), 홀수만 있는 리스트(odd)를 각각 새로운 변수에 할당하고 호출해보세요."
   ]
  },
  {
   "cell_type": "code",
   "execution_count": null,
   "id": "3a80887e",
   "metadata": {},
   "outputs": [],
   "source": [
    "# 코드 입력하기\n",
    "num = [i for i in range(1, 11)]"
   ]
  },
  {
   "cell_type": "markdown",
   "id": "b038c862",
   "metadata": {},
   "source": [
    "  "
   ]
  },
  {
   "cell_type": "markdown",
   "id": "e4253b56",
   "metadata": {},
   "source": [
    "  "
   ]
  },
  {
   "cell_type": "markdown",
   "id": "f1ff0024",
   "metadata": {},
   "source": [
    "4. 반복문 활용\n",
    "\n",
    "다음과 같은 리스트가 주어졌을 때, 캐릭터의 이름과 캐릭터 글자수를 출력하세요.\n",
    "\n",
    "```python\n",
    "characters = [\"사고뭉치 짱구\", \"시크한 철수\", \"화난유리\", \"코맹맹이 맹구\", \"쫄보 훈이\"]\n",
    "```\n",
    "\n",
    "결과예시\n",
    "\n",
    "```\n",
    "사고뭉치 짱구 7\n",
    "시크한 철수 6\n",
    "~~~ 생략\n",
    "```"
   ]
  },
  {
   "cell_type": "code",
   "execution_count": null,
   "id": "7f92d78c",
   "metadata": {},
   "outputs": [],
   "source": [
    "# 코드 입력하기\n",
    "characters = [\"사고뭉치 짱구\", \"시크한 철수\", \"화난유리\", \"코맹맹이 맹구\", \"쫄보 훈이\"]"
   ]
  },
  {
   "cell_type": "markdown",
   "id": "973ed9ee",
   "metadata": {},
   "source": [
    "  "
   ]
  },
  {
   "cell_type": "markdown",
   "id": "46614241",
   "metadata": {},
   "source": [
    "  "
   ]
  },
  {
   "cell_type": "markdown",
   "id": "6c45e922",
   "metadata": {},
   "source": [
    "  "
   ]
  },
  {
   "cell_type": "markdown",
   "id": "7ec03fc2",
   "metadata": {},
   "source": [
    "  "
   ]
  },
  {
   "cell_type": "markdown",
   "id": "8d860fbf",
   "metadata": {},
   "source": [
    "5. 딕셔너리 + 조건\n",
    "\n",
    "```python\n",
    "userInfo = {'red': '123', 'blue': 'blue123', 'green': '456', 'pink': '789'}\n",
    "```\n",
    "\n",
    "사용자 정보가 위와 같이 주어질때, 로그인 문제를 풀어보세요. \n",
    "\n",
    "유저 아이디와 비밀번호는 위와 같이 `userInfo` 주어져 있습니다.\n",
    "\n",
    "아이디와 비밀번호를 `userId`와 `userPassword`라는 변수에 할당하여 임의의 문자열을 입력하세요.\n",
    "\n",
    "입력한 아이디와 비밀번호가 userInfo에 있는 정보와 일치하면 '안녕하세요 ~님'을 출력하고\n",
    "\n",
    "아이디는 일치하지만, 비밀번호는 일치하지 않는다면 '비밀번호가 틀렸습니다.'를 출력하고\n",
    "\n",
    "아이디가 일치하지 않는다면 '존재하지 않는 아이디입니다.'를 출력하는 함수를 만들어보고, 정상작동하는지 확인해봅시다."
   ]
  },
  {
   "cell_type": "code",
   "execution_count": null,
   "id": "e8836eb6",
   "metadata": {},
   "outputs": [],
   "source": [
    "# 코드 입력하기\n",
    "userInfo = {'red': '123', 'blue': 'blue123', 'green': '456', 'pink': '789'}\n",
    "userId = \"\"\n",
    "userPassword = \"\""
   ]
  },
  {
   "cell_type": "markdown",
   "id": "1199e96c",
   "metadata": {},
   "source": [
    "  "
   ]
  },
  {
   "cell_type": "markdown",
   "id": "80e655f9",
   "metadata": {},
   "source": [
    "  "
   ]
  },
  {
   "cell_type": "markdown",
   "id": "642aa8ab",
   "metadata": {},
   "source": [
    "  "
   ]
  },
  {
   "cell_type": "markdown",
   "id": "42d59b65",
   "metadata": {},
   "source": [
    "6. 함수 활용\n",
    "\n",
    "다음의 조건에 맞는 함수를 작성하세요.\n",
    "\n",
    "`함수명: classifyEmail\n",
    "input: 이메일 주소 리스트 (ex, [abc132@naver.com, wow880@gmail.com, hahahahaha@naver.com])\n",
    "ouput: key값이 메일사이트(naver, gmail), value가 id리스트인 딕셔너리\n",
    "단, 메일 사이트는 naver와 gamail 두개 밖에 존재하지 않는다고 가정한다.`\n",
    "\n",
    "```python\n",
    "# 실행예시\n",
    "email = ['abc132@naver.com', 'wow880@gmail.com', 'hahahahaha@naver.com']\n",
    "result = classifyEmail(email)\n",
    "print(result)\n",
    "\n",
    "\n",
    "# 결과\n",
    "{'naver':['abc123', 'hahahahahaha'], 'gmail':['wow880']}\n",
    "\n",
    "```"
   ]
  },
  {
   "cell_type": "code",
   "execution_count": 2,
   "id": "8243ee81",
   "metadata": {},
   "outputs": [
    {
     "name": "stdout",
     "output_type": "stream",
     "text": [
      "{'naver': [], 'gmail': []}\n"
     ]
    }
   ],
   "source": [
    "# 코드 입력하기\n",
    "\n",
    "email = ['abc132@naver.com', 'wow880@gmail.com', 'hahahahaha@naver.com']\n",
    "\n",
    "def classifyEmail(email):\n",
    "    result = {\"naver\": [], \"gmail\": []}\n",
    "    \n",
    "    pass\n",
    "    \n",
    "    return result\n",
    "        \n",
    "result = classifyEmail(email)\n",
    "print(result)"
   ]
  }
 ],
 "metadata": {
  "kernelspec": {
   "display_name": "Python 3 (ipykernel)",
   "language": "python",
   "name": "python3"
  },
  "language_info": {
   "codemirror_mode": {
    "name": "ipython",
    "version": 3
   },
   "file_extension": ".py",
   "mimetype": "text/x-python",
   "name": "python",
   "nbconvert_exporter": "python",
   "pygments_lexer": "ipython3",
   "version": "3.9.12"
  }
 },
 "nbformat": 4,
 "nbformat_minor": 5
}
