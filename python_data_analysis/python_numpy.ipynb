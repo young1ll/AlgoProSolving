{
 "cells": [
  {
   "attachments": {},
   "cell_type": "markdown",
   "metadata": {},
   "source": [
    "# NumPy"
   ]
  },
  {
   "attachments": {},
   "cell_type": "markdown",
   "metadata": {},
   "source": [
    "## Python Data Type 이해하기\n",
    "### A Python Integer Is More Than Just an Integer\n",
    "\n",
    "The standard Python implementation is written in C. This means that every Python object is simply a cleverly-disguised C structure, which contains not only its value, but other information as well. For example, when we define an integer in Python, such as x = 10000, x is not just a \"raw\" integer. It's actually a pointer to a compound C structure, which contains several values. Looking through the Python 3.4 source code, we find that the integer (long) type definition effectively looks like this (once the C macros are expanded):\n",
    "\n",
    "![C_Integer_and_Python_Integer](https://raw.githubusercontent.com/jakevdp/PythonDataScienceHandbook/8a34a4f653bdbdc01415a94dc20d4e9b97438965/notebooks/figures/cint_vs_pyint.png)"
   ]
  },
  {
   "attachments": {},
   "cell_type": "markdown",
   "metadata": {},
   "source": [
    "### A Python List Is More Than Just an List\n",
    "![python_list_and_numpy_list](https://raw.githubusercontent.com/jakevdp/PythonDataScienceHandbook/8a34a4f653bdbdc01415a94dc20d4e9b97438965/notebooks/figures/array_vs_list.png)"
   ]
  },
  {
   "attachments": {},
   "cell_type": "markdown",
   "metadata": {},
   "source": [
    "### NumPy Standard Data Types\n",
    "\n",
    "NumPy 배열에는 single type의 값이 포함되어 있기 때문에 이로인한 제약에 대해 이해하고 있어야 한다. NumPy는 C에 내장되어 있기 때문에 C, Fotran 사용자에게 이해하기 쉽도록 구성되어 있다.\n",
    "\n",
    "| Data type    | Description |\n",
    "|---------------|-------------|\n",
    "| ``bool_``     | Boolean (True or False) stored as a byte |\n",
    "| ``int_``      | Default integer type (same as C ``long``; normally either ``int64`` or ``int32``)|\n",
    "| ``intc``      | Identical to C ``int`` (normally ``int32`` or ``int64``)|\n",
    "| ``intp``      | Integer used for indexing (same as C ``ssize_t``; normally either ``int32`` or ``int64``)|\n",
    "| ``int8``      | Byte (-128 to 127)|\n",
    "| ``int16``     | Integer (-32768 to 32767)|\n",
    "| ``int32``     | Integer (-2147483648 to 2147483647)|\n",
    "| ``int64``     | Integer (-9223372036854775808 to 9223372036854775807)|\n",
    "| ``uint8``     | Unsigned integer (0 to 255)|\n",
    "| ``uint16``    | Unsigned integer (0 to 65535)|\n",
    "| ``uint32``    | Unsigned integer (0 to 4294967295)|\n",
    "| ``uint64``    | Unsigned integer (0 to 18446744073709551615)|\n",
    "| ``float_``    | Shorthand for ``float64``.|\n",
    "| ``float16``   | Half precision float: sign bit, 5 bits exponent, 10 bits mantissa|\n",
    "| ``float32``   | Single precision float: sign bit, 8 bits exponent, 23 bits mantissa|\n",
    "| ``float64``   | Double precision float: sign bit, 11 bits exponent, 52 bits mantissa|\n",
    "| ``complex_``  | Shorthand for ``complex128``.|\n",
    "| ``complex64`` | Complex number, represented by two 32-bit floats|\n",
    "| ``complex128``| Complex number, represented by two 64-bit floats|"
   ]
  },
  {
   "attachments": {},
   "cell_type": "markdown",
   "metadata": {},
   "source": [
    "## NumPy 배열 기본"
   ]
  }
 ],
 "metadata": {
  "language_info": {
   "name": "python"
  },
  "orig_nbformat": 4
 },
 "nbformat": 4,
 "nbformat_minor": 2
}
