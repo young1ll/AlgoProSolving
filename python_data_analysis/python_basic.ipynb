{
 "cells": [
  {
   "attachments": {},
   "cell_type": "markdown",
   "metadata": {},
   "source": [
    "# 파이썬 기본\n",
    "여러 개의 데이터를 담을 수 있는 자료구조 알아보기\n",
    "- 튜플\n",
    "- 리스트\n",
    "- 딕셔너리"
   ]
  },
  {
   "cell_type": "code",
   "execution_count": null,
   "metadata": {},
   "outputs": [],
   "source": []
  }
 ],
 "metadata": {
  "language_info": {
   "name": "python"
  },
  "orig_nbformat": 4
 },
 "nbformat": 4,
 "nbformat_minor": 2
}
