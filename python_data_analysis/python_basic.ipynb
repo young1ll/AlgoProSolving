{
 "cells": [
  {
   "attachments": {},
   "cell_type": "markdown",
   "metadata": {},
   "source": [
    "# 파이썬 기본\n",
    "파이썬 기본 자료형 알아보기\n",
    "\n",
    "- [리스트](#list)\n",
    "- [튜플](#tuple)\n",
    "- [딕셔너리](#dictionary)\n",
    "- [집합](#set)"
   ]
  },
  {
   "attachments": {},
   "cell_type": "markdown",
   "metadata": {},
   "source": [
    "## List\n",
    "- 점프 투 파이썬 : https://wikidocs.net/14\n",
    "\n",
    "### 관련 함수들\n",
    "1. `append()` : 리스트의 끝에 요소 추가\n",
    "2. `insert()` : 리스트 내 특정 위치에 요소 추가\n",
    "3. `extend()` : 리스트의 끝에 리스트의 요소를 추가\n",
    "4. `remove()` : 리스트 내 일치하는 첫번째 값 삭제\n",
    "5. `pop()` : 리스트 내 마지막 요소 반환 및 제거\n",
    "6. `index()` : 리스트 내 일치하는 요소의 인덱스 반환\n",
    "7. `count()` : 리스트 내 요소의 갯수 반환\n",
    "9. `len()` : 리스트의 길이 구하기\n",
    "10. `sort()` : 순방향 정렬(오름차순)\n",
    "11. `reverse()` : 역방향 정렬(내림차순)"
   ]
  },
  {
   "attachments": {},
   "cell_type": "markdown",
   "metadata": {},
   "source": [
    "## Tuple\n",
    "리스트와 유사하지만, 고정된 요솟값을 가진다.\n",
    "- immutable. 요소 값을 바꿀 수 없다(삭제, 변경 불가능).\n",
    "\n",
    "가장 큰 차이인 불변성을 제외하면, 리스트와 완전히 동일하다."
   ]
  },
  {
   "attachments": {},
   "cell_type": "markdown",
   "metadata": {},
   "source": [
    "## Dictionary\n",
    "키와 값을 가진 자료형. 딕셔너리는 리스트, 튜플과 달리 인덱스가 아니라 키를 통해 값을 얻기 떄문에 순차적으로 해당 요솟값을 구하지 않는다(unordered).\n",
    "\n",
    "- 딕셔너리에서 키값은 고유한 값이므로 중복된 키를 가진 요소를 저장할 수 없다.\n",
    "- 또한 키값으로 mutable한 자료형을 가질 수 없다. 따라서 tuple은 딕셔너리의 키가 될 수 있지만, list는 키가 될 수 없다.\n",
    "\n",
    "1. `keys()` : Key 리스트 만들기\n",
    "2. `values()` : Value 리스트 만들기\n",
    "3. `items()` : Key, Value 쌍 얻기\n",
    "4. `clear()` : Key, Value 쌍 모두 지우기\n",
    "5. `get()` : Key로 Value 얻기"
   ]
  },
  {
   "attachments": {},
   "cell_type": "markdown",
   "metadata": {},
   "source": [
    "## Set\n",
    "- 중복을 허용하지 않는다.\n",
    "- 순서가 없다.\n"
   ]
  }
 ],
 "metadata": {
  "kernelspec": {
   "display_name": "Python 3",
   "language": "python",
   "name": "python3"
  },
  "language_info": {
   "codemirror_mode": {
    "name": "ipython",
    "version": 3
   },
   "file_extension": ".py",
   "mimetype": "text/x-python",
   "name": "python",
   "nbconvert_exporter": "python",
   "pygments_lexer": "ipython3",
   "version": "3.10.8"
  },
  "orig_nbformat": 4
 },
 "nbformat": 4,
 "nbformat_minor": 2
}
