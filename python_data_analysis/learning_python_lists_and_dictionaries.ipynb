{
 "cells": [
  {
   "attachments": {},
   "cell_type": "markdown",
   "metadata": {},
   "source": [
    "# Lists and Dictionaries\n",
    "\n",
    "## Lists\n",
    "<table>\n",
    "    <tr>\n",
    "        <th>\n",
    "            순서가 지정된 임의 객체 컬렉션\n",
    "        </th>\n",
    "        <td>\n",
    "            기능적인 관점에서, 리스트는 다른 객체를 그룹으로 처리하는 컬렉션이다. 리스트는 포함된 항목의 순서를 유지하는 시퀀스이다.\n",
    "        </td>\n",
    "    </tr>\n",
    "    <tr>\n",
    "        <th>\n",
    "            오프셋\n",
    "        </th>\n",
    "        <td>\n",
    "            문자열과 마찬가지로 리스트 내 객체의 오프셋으로 구성요소를 인덱싱할 수 있다. 리스트는 순서가 유지되므로 슬라이싱, 연결 등과 같은 작업이 가능하다.\n",
    "        </td>\n",
    "    </tr>\n",
    "    <tr>\n",
    "        <th>\n",
    "            가변길이, 객체 저장, 중첩\n",
    "        </th>\n",
    "        <td>\n",
    "            문자열과 달리 리스트는 길이가 고정적이지 한다. 또한 문자, 문자열, 리스트 등 다양한 객체를 저장할 수 있으며, 다른 리스트를 저장하는 등 중첩도 가능하다.\n",
    "        </td>\n",
    "    </tr>\n",
    "    <tr>\n",
    "        <th>\n",
    "            가변 시퀀스\n",
    "        </th>\n",
    "        <td>\n",
    "            리스트는 mutable sequence로서, 문자열과 같이 다양한 시퀀스 작업을 처리할 수 있다. 더불어 불변형 시퀀스인 문자열이 제공하지 않는 삭제, 인덱스 할당(삽입) 등을 제공한다.\n",
    "        </td>\n",
    "    </tr>\n",
    "    <tr>\n",
    "        <th>\n",
    "            객체 참조 배열\n",
    "        </th>\n",
    "        <td>\n",
    "            Python의 리스트는 포인터와 유사하게 다른 객체에 대한 참조가 0개 이상 포함되어 있다. 이는 C의 배열을 인덱싱 하는 것 만큼 빠르게 동작하도록 해준다.\n",
    "        </td>\n",
    "    </tr>\n",
    "</table>"
   ]
  },
  {
   "attachments": {},
   "cell_type": "markdown",
   "metadata": {},
   "source": [
    "### Common list literals and operations\n",
    "<table>\n",
    "    <tr>\n",
    "        <td><code>L = []</code></td>\n",
    "        <td>빈 리스트</td>\n",
    "    </tr>\n",
    "    <tr>\n",
    "        <td><code>L = [123, 'abc', 1.23, {}]</code></td>\n",
    "        <td>-</td>\n",
    "    </tr>\n",
    "    <tr>\n",
    "        <td><code>L = ['Bob', 40.0, ['dev', 'mgr']]</code></td>\n",
    "        <td>리스트 중첩</td>\n",
    "    </tr>\n",
    "    <tr>\n",
    "        <td><code>L = list('spam')</code><br />\n",
    "        <code>L = list(range(-4, 4))</code></td>\n",
    "        <td>iterable's item, 연속된 정수</td>\n",
    "    </tr>\n",
    "    <tr>\n",
    "        <td><code>L[1]</code><br/>\n",
    "        <code>L[1][j]</code><br/>\n",
    "        <code>L[1:j]</code><br/>\n",
    "        <code>len(L)</code><br/>\n",
    "        </td>\n",
    "        <td>인덱스, 다차원 인덱스, 슬라이스, 길이</td>\n",
    "    </tr>\n",
    "    <tr>\n",
    "        <td><code>L1 + L2</code><br />\n",
    "        <code>L * 3</code></td>\n",
    "        <td>연결, 복사(repeat)</td>\n",
    "    </tr>\n",
    "    <tr>\n",
    "        <td><code>for x in L : print(x)</code><br />\n",
    "        <code>3 in L</code></td>\n",
    "        <td>반복, 멤버십</td>\n",
    "    </tr>\n",
    "    <tr>\n",
    "        <td><code>L.append(4)</code><br />\n",
    "        <code>L.extend([5, 6, 7])</code><br />\n",
    "        <code>L.insert(1, X)</code></td>\n",
    "        <td>Method : 확장</td>\n",
    "    </tr>\n",
    "    <tr>\n",
    "        <td><code>L.index(X)</code><br />\n",
    "        <code>L.count(X)</code></td>\n",
    "        <td>Method : 검색</td>\n",
    "    </tr>\n",
    "    <tr>\n",
    "        <td><code>L.sort()</code><br />\n",
    "        <code>L.reverse()</code><br />\n",
    "        <code>L.copy()</code><br />\n",
    "        <code>L.clear()</code><br /></td>\n",
    "        <td>Method : 정렬, 복사(3.3+), 정리(3.3+)</td>\n",
    "    </tr>\n",
    "    <tr>\n",
    "        <td><code>L.pop(1)</code><br />\n",
    "        <code>L.remove(X)</code><br />\n",
    "        <code>del L[1]</code><br />\n",
    "        <code>del L[1:j]</code><br />\n",
    "        <code>L[1:j] = []</code><br /></td>\n",
    "        <td>Method : 꺼내기, 제거</td>\n",
    "    </tr>\n",
    "    <tr>\n",
    "        <td><code>L[1] = 3</code><br />\n",
    "        <code>L[1:j] = [4, 5, 6]</code><br /></td>\n",
    "        <td>Method : 할당, 슬라이스 할당</td>\n",
    "    </tr>\n",
    "    <tr>\n",
    "        <td><code>L = [x**2 for x in range(5)]</code><br />\n",
    "        <code>list(map(ord, 'spam'))</code><br /></td>\n",
    "        <td>List comprehension and map</td>\n",
    "    </tr>\n",
    "</table>"
   ]
  },
  {
   "attachments": {},
   "cell_type": "markdown",
   "metadata": {},
   "source": [
    "### Lists in Action"
   ]
  },
  {
   "attachments": {},
   "cell_type": "markdown",
   "metadata": {},
   "source": [
    "#### Basic List Operations"
   ]
  },
  {
   "cell_type": "code",
   "execution_count": 2,
   "metadata": {},
   "outputs": [
    {
     "data": {
      "text/plain": [
       "3"
      ]
     },
     "execution_count": 2,
     "metadata": {},
     "output_type": "execute_result"
    }
   ],
   "source": [
    "len([1, 2, 3])"
   ]
  },
  {
   "cell_type": "code",
   "execution_count": 3,
   "metadata": {},
   "outputs": [
    {
     "data": {
      "text/plain": [
       "[1, 2, 3, 4, 5, 6, 7]"
      ]
     },
     "execution_count": 3,
     "metadata": {},
     "output_type": "execute_result"
    }
   ],
   "source": [
    "[1, 2, 3, 4] + [5, 6, 7]"
   ]
  },
  {
   "cell_type": "code",
   "execution_count": 4,
   "metadata": {},
   "outputs": [
    {
     "data": {
      "text/plain": [
       "['N1', 'N1', 'N1', 'N1']"
      ]
     },
     "execution_count": 4,
     "metadata": {},
     "output_type": "execute_result"
    }
   ],
   "source": [
    "['N1'] * 4"
   ]
  },
  {
   "attachments": {},
   "cell_type": "markdown",
   "metadata": {},
   "source": [
    "#### List Iteration and Comprehensions"
   ]
  },
  {
   "cell_type": "code",
   "execution_count": 5,
   "metadata": {},
   "outputs": [
    {
     "data": {
      "text/plain": [
       "True"
      ]
     },
     "execution_count": 5,
     "metadata": {},
     "output_type": "execute_result"
    }
   ],
   "source": [
    "3 in [1, 2, 3]          # Membership"
   ]
  },
  {
   "cell_type": "code",
   "execution_count": 7,
   "metadata": {},
   "outputs": [
    {
     "name": "stdout",
     "output_type": "stream",
     "text": [
      "1 2 3 "
     ]
    }
   ],
   "source": [
    "for x in [1, 2, 3]:     # Iteration\n",
    "    print(x, end=' ')"
   ]
  },
  {
   "cell_type": "code",
   "execution_count": 9,
   "metadata": {},
   "outputs": [
    {
     "data": {
      "text/plain": [
       "['SSSS', 'PPPP', 'AAAA', 'MMMM']"
      ]
     },
     "execution_count": 9,
     "metadata": {},
     "output_type": "execute_result"
    }
   ],
   "source": [
    "res = [c * 4 for c in 'SPAM']\n",
    "res"
   ]
  },
  {
   "cell_type": "code",
   "execution_count": 10,
   "metadata": {},
   "outputs": [
    {
     "data": {
      "text/plain": [
       "['SSSS', 'PPPP', 'AAAA', 'MMMM']"
      ]
     },
     "execution_count": 10,
     "metadata": {},
     "output_type": "execute_result"
    }
   ],
   "source": [
    "# 위 한 줄의 코드를 기존의 for loop로 풀면 아래와 같다.\n",
    "res = []\n",
    "for c in 'SPAM':\n",
    "    res.append(c * 4)\n",
    "res"
   ]
  },
  {
   "cell_type": "code",
   "execution_count": 12,
   "metadata": {},
   "outputs": [
    {
     "data": {
      "text/plain": [
       "[1, 2, 0, 1, 2]"
      ]
     },
     "execution_count": 12,
     "metadata": {},
     "output_type": "execute_result"
    }
   ],
   "source": [
    "# 내장함수 map()을 사용할 수도 있다.\n",
    "# map 내장함수는 자동으로 순서를 만들고, 새 리스트를 반환한다.\n",
    "list(map(abs, [-1, -2, 0, 1, 2]))"
   ]
  },
  {
   "attachments": {},
   "cell_type": "markdown",
   "metadata": {},
   "source": [
    "#### 인덱싱, 슬라이싱, 행렬"
   ]
  },
  {
   "cell_type": "code",
   "execution_count": 16,
   "metadata": {},
   "outputs": [
    {
     "data": {
      "text/plain": [
       "'SPAM'"
      ]
     },
     "execution_count": 16,
     "metadata": {},
     "output_type": "execute_result"
    }
   ],
   "source": [
    "L = ['spam', 'Spam', 'SPAM']    # Offset은 0부터 시작한다.\n",
    "L[2]"
   ]
  },
  {
   "cell_type": "code",
   "execution_count": 17,
   "metadata": {},
   "outputs": [
    {
     "data": {
      "text/plain": [
       "'Spam'"
      ]
     },
     "execution_count": 17,
     "metadata": {},
     "output_type": "execute_result"
    }
   ],
   "source": [
    "L[-2]       # Negative 인덱스는 끝(오른쪽)에서부터 인덱싱한다."
   ]
  },
  {
   "cell_type": "code",
   "execution_count": 18,
   "metadata": {},
   "outputs": [
    {
     "data": {
      "text/plain": [
       "['Spam', 'SPAM']"
      ]
     },
     "execution_count": 18,
     "metadata": {},
     "output_type": "execute_result"
    }
   ],
   "source": [
    "L[1:]       # 부분 슬라이싱"
   ]
  },
  {
   "attachments": {},
   "cell_type": "markdown",
   "metadata": {},
   "source": [
    "- 행렬을 다루는 방법은 아래와 같다."
   ]
  },
  {
   "cell_type": "code",
   "execution_count": 19,
   "metadata": {},
   "outputs": [
    {
     "data": {
      "text/plain": [
       "[4, 5, 6]"
      ]
     },
     "execution_count": 19,
     "metadata": {},
     "output_type": "execute_result"
    }
   ],
   "source": [
    "matrix = [[1, 2, 3], [4, 5, 6], [7, 8, 9]]\n",
    "matrix[1]"
   ]
  },
  {
   "cell_type": "code",
   "execution_count": 20,
   "metadata": {},
   "outputs": [
    {
     "data": {
      "text/plain": [
       "5"
      ]
     },
     "execution_count": 20,
     "metadata": {},
     "output_type": "execute_result"
    }
   ],
   "source": [
    "matrix[1][1]"
   ]
  },
  {
   "attachments": {},
   "cell_type": "markdown",
   "metadata": {},
   "source": [
    "---\n",
    "\n",
    "## Dictionary\n",
    "딕셔너리는 리스트와 함께 가장 유연하고 강력한 자료형이다. 리스트와 다른 점은, 딕셔너리는 순서를 갖지 않으며, 오프셋이 아닌 키로 구성 요소를 다룬다는 것이다. 리스트가 다른 언어의 배열과 유사한 역할을 수행한다면, 딕셔너리는 레코드, 검색 테이블, 다양한 집계를 다루는데 효과적이다.\n",
    "\n",
    "예를 들어, 딕셔너리로 많은 검색 알고리즘과 자료구조를 대체할 수 있다. 파이썬의 딕셔너리는 키 인덱싱으로 매우 빠른 검색을 지원하고, 희소 자료구조, 구조체 및 기호 테이블 등의 작업을 수행할 수 있다.\n",
    "\n",
    "<table>\n",
    "    <tr>\n",
    "        <th>\n",
    "            키 인덱싱\n",
    "        </th>\n",
    "        <td>\n",
    "            파이썬의 딕셔너리는 다른 언어의 연관배열 또는 해시와 유사하다. 리스트와는 달리 값들을 키와 연결해 관리하므로, 키를 사용해 구성요소에 접근할 수 있다.\n",
    "        </td>\n",
    "    </tr>\n",
    "    <tr>\n",
    "        <th>\n",
    "            순서가 지정되지 않은 임의 객체 컬렉션\n",
    "        </th>\n",
    "        <td>\n",
    "            리스트와 달리 딕셔너리에 저장된 요소는 순서를 보장하지 않는다. 딕셔너리는 빠른 검색을 지원하기 위해 요소를 자동으로 임의 정렬 처리 후 저장한다.\n",
    "        </td>\n",
    "    </tr>\n",
    "    <tr>\n",
    "        <th>\n",
    "            가변길이, 객체 저장, 중첩\n",
    "        </th>\n",
    "        <td>\n",
    "            리스트와 마찬가지로 딕셔너리 역시 새 복사본 없이 확장 및 축소할 수 있는 가변 자료형이며, 모든 타입을 저장할 수 있다. 또한, 리스트, 다른 딕셔너리를 저장해 중첩할 수 있다. 각 키는 연결된 값을 하나만 가질 수 있지만, 필요한 경우 해당 값을 여러 객체의 집합으로 지정할 수 있다.\n",
    "        </td>\n",
    "    </tr>\n",
    "    <tr>\n",
    "        <th>\n",
    "            가변 매핑\n",
    "        </th>\n",
    "        <td>\n",
    "            딕셔너리는 리스트와 달리 시퀀스가 아니라 매핑 범주에 속해 있다. 따라서 값을 바꿀 수는 있지만, 문자열이나 리스트와 같은 시퀀스 작업은 처리할 수 없다. 딕셔너리는 순서를 보장하지 않으므로 연결, 슬라이싱과 같은 인덱스에 의존하는 시퀀스 작업은 의미가 없다.\n",
    "        </td>\n",
    "    </tr>\n",
    "    <tr>\n",
    "        <th>\n",
    "            해시 테이블\n",
    "        </th>\n",
    "        <td>\n",
    "            리스트가 인덱스에 의존해 참조된 객체 요소에 접근할 수 있다면, 딕셔너리는 키 별로 참조된 객체 요소에 접근할 수 있는 일종의 테이블이다. 딕셔너리는 내부적으로 작은 크기로 생성되어, 확장되는 크기를 가지도록 구현된다. 또한 딕셔너리는 최적화된 해싱 알고리즘을 사용하므로 빠른 검색이 가능하다.\n",
    "        </td>\n",
    "    </tr>\n",
    "</table>"
   ]
  },
  {
   "attachments": {},
   "cell_type": "markdown",
   "metadata": {},
   "source": [
    "### Common dictoinary literals and operations\n",
    "<table>\n",
    "    <tr>\n",
    "        <td><code>D = {}</code></td>\n",
    "        <td>빈 리스트</td>\n",
    "    </tr>\n",
    "    <tr>\n",
    "        <td><code>D = {'name' : 'James', 'age' : 36}</code></td>\n",
    "        <td>-</td>\n",
    "    </tr>\n",
    "    <tr>\n",
    "        <td><code>D = {'cto' : {'name' : 'James', 'age' : 36}}<code></td>\n",
    "        <td>리스트 중첩</td>\n",
    "    </tr>\n",
    "    <tr>\n",
    "        <td><code>D = dict(name = 'James', age = 36)</code><br />\n",
    "        <code>D = dict([('name', 'James'), ('age', 36)])</code><br />\n",
    "        <code>D = dict(zip(keylist, valuelist))</code><br />\n",
    "        <code>D = dict.fromkeys(['name', 'age'])</code><br /></td>\n",
    "        <td>keywords, zip, key lists</td>\n",
    "    </tr>\n",
    "    <tr>\n",
    "        <td><code>D['name']</code><br/>\n",
    "        <code>E['cto]['age']</code><br/>\n",
    "        </td>\n",
    "        <td>키 인덱스</td>\n",
    "    </tr>\n",
    "    <tr>\n",
    "        <td><code>'age' in D</code><br />\n",
    "        <td>멤버십</td>\n",
    "    </tr>\n",
    "    <tr>\n",
    "        <td><code>D.keys()</code><br />\n",
    "        <td>Methods : 키 조회</td>\n",
    "    </tr>\n",
    "    <tr>\n",
    "        <td><code>D.values</code><br />\n",
    "        <td>Methods : 값 조회</td>\n",
    "    </tr>\n",
    "    <tr>\n",
    "        <td><code>D.items</code><br />\n",
    "        <td>Methods : 키, 값 조회</td>\n",
    "    </tr>\n",
    "    <tr>\n",
    "        <td><code>D.copy()</code><br />\n",
    "        <td>Methods : 복사</td>\n",
    "    </tr>\n",
    "    <tr>\n",
    "        <td><code>D.clear()</code><br />\n",
    "        <td>Methods : 비우기</td>\n",
    "    </tr>\n",
    "    <tr>\n",
    "        <td><code>D.update(D2)</code><br />\n",
    "        <td>Methods : 합치기</td>\n",
    "    </tr>\n",
    "    <tr>\n",
    "        <td><code>D.get(key, default?)</code><br />\n",
    "        <td>Methods : 구하기(키)</td>\n",
    "    </tr>\n",
    "    <tr>\n",
    "        <td><code>D.pop(key, default?)</code><br />\n",
    "        <td>Methods : 삭제(키)</td>\n",
    "    </tr>\n",
    "    <tr>\n",
    "        <td><code>D.setdefault(key, default?)</code><br />\n",
    "        <td>Methods : 구하기(키)</td>\n",
    "    </tr>\n",
    "    <tr>\n",
    "        <td><code>D.popitem()</code><br />\n",
    "        <td>Methods : 삭제(키, 값 반환)</td>\n",
    "    </tr>\n",
    "    <tr>\n",
    "        <td><code>len(D)</code><br />\n",
    "        <td>Methods : 길이 반환</td>\n",
    "    </tr>\n",
    "    <tr>\n",
    "        <td><code>D[key] = 42</code><br />\n",
    "        <td>Methods : 추가, 수정</td>\n",
    "    </tr>\n",
    "    <tr>\n",
    "        <td><code>del D[key]</code><br />\n",
    "        <td>키로 엔트리 제거</td>\n",
    "    </tr>\n",
    "    <tr>\n",
    "        <td><code>list(D.keys())</code><br />\n",
    "        <code>D1.keys() & D2.keys()</code><br />\n",
    "        <code>D1.viewkeys(), D2.viewvalues()</code><br />\n",
    "        <td>Methods : 딕셔너리 보기</td>\n",
    "    </tr>\n",
    "    <tr>\n",
    "        <td><code>D = {x : x*2 for x in range(10)}</code><br />\n",
    "        <td>comprehension</td>\n",
    "    </tr>\n",
    "</table>"
   ]
  },
  {
   "attachments": {},
   "cell_type": "markdown",
   "metadata": {},
   "source": [
    "### Dictionary in Action"
   ]
  },
  {
   "cell_type": "code",
   "execution_count": 30,
   "metadata": {},
   "outputs": [
    {
     "data": {
      "text/plain": [
       "2"
      ]
     },
     "execution_count": 30,
     "metadata": {},
     "output_type": "execute_result"
    }
   ],
   "source": [
    "D = {'spam' : 2, 'ham' : 1, 'eggs' : 3}\n",
    "D['spam']"
   ]
  },
  {
   "cell_type": "code",
   "execution_count": 31,
   "metadata": {},
   "outputs": [
    {
     "data": {
      "text/plain": [
       "{'spam': 2, 'ham': 1, 'eggs': 3}"
      ]
     },
     "execution_count": 31,
     "metadata": {},
     "output_type": "execute_result"
    }
   ],
   "source": [
    "D"
   ]
  },
  {
   "cell_type": "code",
   "execution_count": 32,
   "metadata": {},
   "outputs": [
    {
     "data": {
      "text/plain": [
       "3"
      ]
     },
     "execution_count": 32,
     "metadata": {},
     "output_type": "execute_result"
    }
   ],
   "source": [
    "len(D)"
   ]
  },
  {
   "cell_type": "code",
   "execution_count": 33,
   "metadata": {},
   "outputs": [
    {
     "data": {
      "text/plain": [
       "True"
      ]
     },
     "execution_count": 33,
     "metadata": {},
     "output_type": "execute_result"
    }
   ],
   "source": [
    "'ham' in D      # 키 멤버십 테스트"
   ]
  },
  {
   "cell_type": "code",
   "execution_count": 34,
   "metadata": {},
   "outputs": [
    {
     "data": {
      "text/plain": [
       "['spam', 'ham', 'eggs']"
      ]
     },
     "execution_count": 34,
     "metadata": {},
     "output_type": "execute_result"
    }
   ],
   "source": [
    "list(D.keys())  # D의 키로 리스트 생성"
   ]
  },
  {
   "attachments": {},
   "cell_type": "markdown",
   "metadata": {},
   "source": [
    "#### Chainging Dictionaries in Place"
   ]
  },
  {
   "cell_type": "code",
   "execution_count": 35,
   "metadata": {},
   "outputs": [
    {
     "data": {
      "text/plain": [
       "{'spam': 2, 'ham': ['grill', 'bake', 'fry'], 'eggs': 3}"
      ]
     },
     "execution_count": 35,
     "metadata": {},
     "output_type": "execute_result"
    }
   ],
   "source": [
    "D['ham'] = ['grill', 'bake', 'fry']\n",
    "D"
   ]
  },
  {
   "cell_type": "code",
   "execution_count": 36,
   "metadata": {},
   "outputs": [
    {
     "data": {
      "text/plain": [
       "{'spam': 2, 'ham': ['grill', 'bake', 'fry']}"
      ]
     },
     "execution_count": 36,
     "metadata": {},
     "output_type": "execute_result"
    }
   ],
   "source": [
    "del D['eggs']\n",
    "D"
   ]
  },
  {
   "cell_type": "code",
   "execution_count": 37,
   "metadata": {},
   "outputs": [
    {
     "data": {
      "text/plain": [
       "{'spam': 2, 'ham': ['grill', 'bake', 'fry'], 'brunch': 'Bacon'}"
      ]
     },
     "execution_count": 37,
     "metadata": {},
     "output_type": "execute_result"
    }
   ],
   "source": [
    "D['brunch'] = 'Bacon'\n",
    "D"
   ]
  },
  {
   "cell_type": "code",
   "execution_count": 39,
   "metadata": {},
   "outputs": [
    {
     "data": {
      "text/plain": [
       "[2, 1, 3]"
      ]
     },
     "execution_count": 39,
     "metadata": {},
     "output_type": "execute_result"
    }
   ],
   "source": [
    "D = {'spam' : 2, 'ham' : 1, 'eggs' : 3}\n",
    "list(D.values())"
   ]
  },
  {
   "cell_type": "code",
   "execution_count": 40,
   "metadata": {},
   "outputs": [
    {
     "data": {
      "text/plain": [
       "[('spam', 2), ('ham', 1), ('eggs', 3)]"
      ]
     },
     "execution_count": 40,
     "metadata": {},
     "output_type": "execute_result"
    }
   ],
   "source": [
    "list(D.items())"
   ]
  },
  {
   "cell_type": "code",
   "execution_count": 45,
   "metadata": {},
   "outputs": [
    {
     "data": {
      "text/plain": [
       "2"
      ]
     },
     "execution_count": 45,
     "metadata": {},
     "output_type": "execute_result"
    }
   ],
   "source": [
    "D.get('spam')"
   ]
  },
  {
   "cell_type": "code",
   "execution_count": 46,
   "metadata": {},
   "outputs": [
    {
     "name": "stdout",
     "output_type": "stream",
     "text": [
      "None\n"
     ]
    }
   ],
   "source": [
    "print(D.get('toast'))   # missing key"
   ]
  },
  {
   "cell_type": "code",
   "execution_count": 47,
   "metadata": {},
   "outputs": [
    {
     "data": {
      "text/plain": [
       "88"
      ]
     },
     "execution_count": 47,
     "metadata": {},
     "output_type": "execute_result"
    }
   ],
   "source": [
    "D.get('toast', 88)"
   ]
  },
  {
   "cell_type": "code",
   "execution_count": 48,
   "metadata": {},
   "outputs": [
    {
     "data": {
      "text/plain": [
       "{'spam': 2, 'ham': 1, 'eggs': 3}"
      ]
     },
     "execution_count": 48,
     "metadata": {},
     "output_type": "execute_result"
    }
   ],
   "source": [
    "D"
   ]
  },
  {
   "cell_type": "code",
   "execution_count": 50,
   "metadata": {},
   "outputs": [
    {
     "data": {
      "text/plain": [
       "{'spam': 2, 'ham': 1, 'eggs': 3, 'toast': 4, 'muffin': 5}"
      ]
     },
     "execution_count": 50,
     "metadata": {},
     "output_type": "execute_result"
    }
   ],
   "source": [
    "D2 = {'toast' : 4, 'muffin' : 5}\n",
    "D.update(D2)\n",
    "D"
   ]
  },
  {
   "cell_type": "code",
   "execution_count": 51,
   "metadata": {},
   "outputs": [
    {
     "data": {
      "text/plain": [
       "{'spam': 2, 'ham': 1, 'eggs': 3, 'toast': 4, 'muffin': 5}"
      ]
     },
     "execution_count": 51,
     "metadata": {},
     "output_type": "execute_result"
    }
   ],
   "source": [
    "D"
   ]
  },
  {
   "cell_type": "code",
   "execution_count": 52,
   "metadata": {},
   "outputs": [
    {
     "data": {
      "text/plain": [
       "5"
      ]
     },
     "execution_count": 52,
     "metadata": {},
     "output_type": "execute_result"
    }
   ],
   "source": [
    "D.pop('muffin')"
   ]
  },
  {
   "cell_type": "code",
   "execution_count": 53,
   "metadata": {},
   "outputs": [
    {
     "data": {
      "text/plain": [
       "4"
      ]
     },
     "execution_count": 53,
     "metadata": {},
     "output_type": "execute_result"
    }
   ],
   "source": [
    "D.pop('toast')                  # delete and return from a key"
   ]
  },
  {
   "cell_type": "code",
   "execution_count": 54,
   "metadata": {},
   "outputs": [
    {
     "data": {
      "text/plain": [
       "{'spam': 2, 'ham': 1, 'eggs': 3}"
      ]
     },
     "execution_count": 54,
     "metadata": {},
     "output_type": "execute_result"
    }
   ],
   "source": [
    "D"
   ]
  },
  {
   "cell_type": "code",
   "execution_count": 55,
   "metadata": {},
   "outputs": [
    {
     "data": {
      "text/plain": [
       "'dd'"
      ]
     },
     "execution_count": 55,
     "metadata": {},
     "output_type": "execute_result"
    }
   ],
   "source": [
    "L = ['aa', 'bb', 'cc', 'dd']    # delete and return from the end\n",
    "L.pop()"
   ]
  },
  {
   "cell_type": "code",
   "execution_count": 56,
   "metadata": {},
   "outputs": [
    {
     "data": {
      "text/plain": [
       "['aa', 'cc']"
      ]
     },
     "execution_count": 56,
     "metadata": {},
     "output_type": "execute_result"
    }
   ],
   "source": [
    "L.pop(1)                        # delete form a specific position\n",
    "L"
   ]
  },
  {
   "attachments": {},
   "cell_type": "markdown",
   "metadata": {},
   "source": [
    "### Dictionary Usage Note\n",
    "딕셔너리는 간단하면서도 강력한 자료형이지만, 사용할 때 주의해야 하는 부분이 있다.\n",
    "\n",
    "- **딕셔너리는 시퀀스가 아니라 매핑이다** : 딕셔너리는 구성요소 간 순서를 보장하지 않기 때문에 연결, 슬라이싱과 같은 슬라이싱 작업을 처리할 수 없다.\n",
    "- **존재하지 않는 인덱스(키)에 값을 할당하면 새로운 아이템이 추가된다** : 리터럴로 존재하지 않는 키 인덱스에 값을 할당하면 새로운 아이템이 추가된다.\n",
    "- **모든 불변 객체는 키가 될 수 있다** : 딕셔너리는 정수, 실수, 문자, 문자열, 튜플 등 고정된 값을 가진 객체는 모두 키로 설정할 수 있다. 심지어 적절한 프로토콜 방법만 있다면 클래스 인스턴스를 키로 가질 수도 있다. 다만, 리스트 및 셋과 같은 가변형 객체는 값으로만 할당할 수 있다."
   ]
  },
  {
   "attachments": {},
   "cell_type": "markdown",
   "metadata": {},
   "source": [
    "#### 딕셔너리로 유연한 리스트 구현하기\n",
    "리스트는 존재하지 않는 인덱스에 접근을 불허한다. 딕셔너리로 이를 허용하는 보다 유연한 리스트를 구현할 수 있다."
   ]
  },
  {
   "cell_type": "code",
   "execution_count": 58,
   "metadata": {},
   "outputs": [
    {
     "ename": "IndexError",
     "evalue": "list index out of range",
     "output_type": "error",
     "traceback": [
      "\u001b[1;31m---------------------------------------------------------------------------\u001b[0m",
      "\u001b[1;31mIndexError\u001b[0m                                Traceback (most recent call last)",
      "Cell \u001b[1;32mIn[58], line 2\u001b[0m\n\u001b[0;32m      1\u001b[0m L \u001b[39m=\u001b[39m []\n\u001b[1;32m----> 2\u001b[0m L[\u001b[39m99\u001b[39;49m] \u001b[39m-\u001b[39m \u001b[39m'\u001b[39m\u001b[39mspam\u001b[39m\u001b[39m'\u001b[39m\n",
      "\u001b[1;31mIndexError\u001b[0m: list index out of range"
     ]
    }
   ],
   "source": [
    "L = []\n",
    "L[99] - 'spam'"
   ]
  },
  {
   "attachments": {},
   "cell_type": "markdown",
   "metadata": {},
   "source": [
    "딕셔너리의 키를 리스트의 인덱스처럼 사용해 이를 허용하는 유연한 리스트를 구현할 수 있다. 이때, 딕셔너리의 크기는 최소한의 크기로 시작하므로, 값이 없는 인덱스는 생성되지도 않아 용량을 줄일 수 있다."
   ]
  },
  {
   "cell_type": "code",
   "execution_count": 59,
   "metadata": {},
   "outputs": [
    {
     "data": {
      "text/plain": [
       "'spam'"
      ]
     },
     "execution_count": 59,
     "metadata": {},
     "output_type": "execute_result"
    }
   ],
   "source": [
    "D = {}\n",
    "D[99] = 'spam'\n",
    "D[99]"
   ]
  },
  {
   "attachments": {},
   "cell_type": "markdown",
   "metadata": {},
   "source": [
    "이를 활용하면 동영상 데이터베이스에 연도별로 저장하는 테이블을 구성할 수 있다."
   ]
  },
  {
   "cell_type": "code",
   "execution_count": 60,
   "metadata": {},
   "outputs": [
    {
     "data": {
      "text/plain": [
       "'Holly Grail'"
      ]
     },
     "execution_count": 60,
     "metadata": {},
     "output_type": "execute_result"
    }
   ],
   "source": [
    "table = {1975 : 'Holly Grail',          # Integer Keys\n",
    "         1979 : 'Life of Brian', \n",
    "         1983 : 'The Meaning of Life'}\n",
    "table[1975]"
   ]
  },
  {
   "cell_type": "code",
   "execution_count": 61,
   "metadata": {},
   "outputs": [
    {
     "data": {
      "text/plain": [
       "[(1975, 'Holly Grail'), (1979, 'Life of Brian'), (1983, 'The Meaning of Life')]"
      ]
     },
     "execution_count": 61,
     "metadata": {},
     "output_type": "execute_result"
    }
   ],
   "source": [
    "list(table.items())"
   ]
  },
  {
   "attachments": {},
   "cell_type": "markdown",
   "metadata": {},
   "source": [
    "#### 딕셔너리로 희소 자료 구조: 튜플 키 구현하기\n",
    "유사한 방식으로, 딕셔너리를 활용해 희소 자료 구조(소수의 위치에만 값이 있는 다차원 배열)를 구현할 수 있다."
   ]
  },
  {
   "cell_type": "code",
   "execution_count": 63,
   "metadata": {},
   "outputs": [
    {
     "data": {
      "text/plain": [
       "88"
      ]
     },
     "execution_count": 63,
     "metadata": {},
     "output_type": "execute_result"
    }
   ],
   "source": [
    "Matrix = {}\n",
    "Matrix[(2, 3, 4)] = 88\n",
    "Matrix[(7, 8, 9)] = 99\n",
    "\n",
    "X = 2; Y = 3; Z = 4\n",
    "Matrix[(X, Y, Z)]"
   ]
  },
  {
   "cell_type": "code",
   "execution_count": 64,
   "metadata": {},
   "outputs": [
    {
     "data": {
      "text/plain": [
       "{(2, 3, 4): 88, (7, 8, 9): 99}"
      ]
     },
     "execution_count": 64,
     "metadata": {},
     "output_type": "execute_result"
    }
   ],
   "source": [
    "Matrix"
   ]
  },
  {
   "attachments": {},
   "cell_type": "markdown",
   "metadata": {},
   "source": [
    "#### missing-key 에러 피하기\n",
    "딕셔너리 사용 시 존재하지 않는 키에 인덱싱 하므로 발생하는 에러로 인해 프로그램이 종료될 수 있다. 이를 원치 않는 경우 `if`문을 사용하거나 `try`문을 사용해 예외를 명시할 수 있다."
   ]
  },
  {
   "cell_type": "code",
   "execution_count": 65,
   "metadata": {},
   "outputs": [
    {
     "name": "stdout",
     "output_type": "stream",
     "text": [
      "0\n"
     ]
    }
   ],
   "source": [
    "if(2, 3, 6) in Matrix:\n",
    "    print(Matrix[(2, 3, 6)])\n",
    "else:\n",
    "    print(0)"
   ]
  },
  {
   "cell_type": "code",
   "execution_count": 66,
   "metadata": {},
   "outputs": [
    {
     "name": "stdout",
     "output_type": "stream",
     "text": [
      "0\n"
     ]
    }
   ],
   "source": [
    "try:\n",
    "    print(Matrix[(2, 3, 6)])\n",
    "except KeyError:\n",
    "    print(0)"
   ]
  },
  {
   "cell_type": "code",
   "execution_count": 68,
   "metadata": {},
   "outputs": [
    {
     "data": {
      "text/plain": [
       "88"
      ]
     },
     "execution_count": 68,
     "metadata": {},
     "output_type": "execute_result"
    }
   ],
   "source": [
    "Matrix.get((2, 3, 4), 0)"
   ]
  },
  {
   "cell_type": "code",
   "execution_count": null,
   "metadata": {},
   "outputs": [
    {
     "data": {
      "text/plain": [
       "0"
      ]
     },
     "metadata": {},
     "output_type": "display_data"
    }
   ],
   "source": [
    "Matrix.get((2, 3, 6), 0)"
   ]
  },
  {
   "attachments": {},
   "cell_type": "markdown",
   "metadata": {},
   "source": [
    "#### 딕셔너리 중첩\n",
    "위 과정에서 알 수 있는 것은 Python의 딕셔너리는 다른 언어의 *\"구조\"* 또는 *\"레코드\"*처럼 사용할 수 있다는 것이다."
   ]
  },
  {
   "cell_type": "code",
   "execution_count": 69,
   "metadata": {},
   "outputs": [
    {
     "name": "stdout",
     "output_type": "stream",
     "text": [
      "James\n"
     ]
    }
   ],
   "source": [
    "rec = {}\n",
    "rec['name'] = 'James'\n",
    "rec['age'] = 36.5\n",
    "rec['job'] = 'developer/cto'\n",
    "\n",
    "print(rec['name'])"
   ]
  },
  {
   "attachments": {},
   "cell_type": "markdown",
   "metadata": {},
   "source": [
    "딕셔너리의 특성을 잘 살리면 위 리터럴을 더 보기 좋게 구조화 할 수 있다."
   ]
  },
  {
   "cell_type": "code",
   "execution_count": 71,
   "metadata": {},
   "outputs": [
    {
     "name": "stdout",
     "output_type": "stream",
     "text": [
      "James\n",
      "cto\n",
      "12345\n"
     ]
    }
   ],
   "source": [
    "rec = {'name' : 'James', \n",
    "       'jobs' : ['developer', 'cto'], \n",
    "       'web' : 'www.james.org/James',\n",
    "       'home' : {'state' : 'Overworked', 'zip' : 12345}}\n",
    "\n",
    "print(rec['name'])\n",
    "print(rec['jobs'][1])\n",
    "print(rec['home']['zip'])"
   ]
  },
  {
   "attachments": {},
   "cell_type": "markdown",
   "metadata": {},
   "source": [
    "#### 딕셔너리를 만드는 다른 방법\n",
    "Python의 딕셔너리는 너무 유용해서, 많은 Python 개발자들이 즐겨 사용해왔고, 이를 다루는 다양한 방법이 등장했다."
   ]
  },
  {
   "cell_type": "code",
   "execution_count": null,
   "metadata": {},
   "outputs": [],
   "source": [
    "{'name' : 'Bob', 'age' : 40}            # Traditional literal\n",
    "\n",
    "D = {}                                  # 동적 키 할당\n",
    "D['name'] = 'Bob'\n",
    "D['age'] = 40\n",
    "\n",
    "dict(name='Bob', age=40)                # 키워드 매개변수형\n",
    "\n",
    "dict([('name', 'Bob'), ('age', 40)])    # 키/값 튜플형"
   ]
  },
  {
   "attachments": {},
   "cell_type": "markdown",
   "metadata": {},
   "source": [
    "- **전통 리터럴 방식** : 딕셔너리에 저장할 모든 정보를 알고 있다면 편리\n",
    "- **동적 키 할당** : 딕셔너리에 즉시 하나의 필드를 작성해야 하는 경우 유용\n",
    "- **키워드 매개변수형** : 전통 리터럴 방식에 비해 타이핑이 줄어 편하지만, 문자열만 키가 될 수 있음\n",
    "- **키/값 튜플형** : 런타임에 키와 값을 시퀀스로 입력할 경우 유용"
   ]
  },
  {
   "attachments": {},
   "cell_type": "markdown",
   "metadata": {},
   "source": [
    "한편, 키 압축을 활용하면 처음에 모든 키가 동일한 값을 가지도록 쉽게 생성할 수 있다. 키 리스트와 초깃값을 전달하기만 하면 된다.(기본값: None)"
   ]
  },
  {
   "cell_type": "code",
   "execution_count": 73,
   "metadata": {},
   "outputs": [
    {
     "data": {
      "text/plain": [
       "{'a': 0, 'b': 0}"
      ]
     },
     "execution_count": 73,
     "metadata": {},
     "output_type": "execute_result"
    }
   ],
   "source": [
    "dict.fromkeys(['a', 'b'], 0)"
   ]
  },
  {
   "attachments": {},
   "cell_type": "markdown",
   "metadata": {},
   "source": [
    "## Dictionary Vs. List\n",
    "Python의 모든 자료형이 객체이고, 리스트와 딕셔너리의 다양한 기능과 활용성 때문에 자료형 선택에 어려움이 있을 수 있다. 두 자료형 모두 유연한 컬렉션이지만 리스트는 아이템을 위치에 할당하고 딕셔너리는 아이템을 키에 할당한다."
   ]
  },
  {
   "cell_type": "code",
   "execution_count": 76,
   "metadata": {},
   "outputs": [
    {
     "name": "stdout",
     "output_type": "stream",
     "text": [
      "Bob\n",
      "40.5\n",
      "mgr\n"
     ]
    }
   ],
   "source": [
    "Li = ['Bob', 40.5, ['dev', 'mgr']]  # 리스트 기반 레코드\n",
    "print(Li[0])\n",
    "print(Li[1])\n",
    "print(Li[2][1])"
   ]
  },
  {
   "cell_type": "code",
   "execution_count": 77,
   "metadata": {},
   "outputs": [
    {
     "name": "stdout",
     "output_type": "stream",
     "text": [
      "Bob\n",
      "40.5\n",
      "mgr\n"
     ]
    }
   ],
   "source": [
    "Di = {'name' : 'Bob', 'age' : 40.5, 'jobs' : ['dev', 'mgr']}\n",
    "print(Di['name'])\n",
    "print(Di['age'])                    # 딕셔너리 기반 레코드\n",
    "print(Di['jobs'][1])                # 번호가 아닌 이름!"
   ]
  },
  {
   "attachments": {},
   "cell_type": "markdown",
   "metadata": {},
   "source": [
    "딕셔너리와 리스트 대신 셋을 고려해 볼 수도 있다."
   ]
  },
  {
   "cell_type": "code",
   "execution_count": 78,
   "metadata": {},
   "outputs": [
    {
     "data": {
      "text/plain": [
       "True"
      ]
     },
     "execution_count": 78,
     "metadata": {},
     "output_type": "execute_result"
    }
   ],
   "source": [
    "Se = {}\n",
    "Se['state1'] = True\n",
    "'state1' in Se"
   ]
  },
  {
   "cell_type": "code",
   "execution_count": 79,
   "metadata": {},
   "outputs": [
    {
     "data": {
      "text/plain": [
       "True"
      ]
     },
     "execution_count": 79,
     "metadata": {},
     "output_type": "execute_result"
    }
   ],
   "source": [
    "Sett = set()\n",
    "Sett.add('state1')\n",
    "'state1' in Sett"
   ]
  }
 ],
 "metadata": {
  "kernelspec": {
   "display_name": "venv",
   "language": "python",
   "name": "python3"
  },
  "language_info": {
   "codemirror_mode": {
    "name": "ipython",
    "version": 3
   },
   "file_extension": ".py",
   "mimetype": "text/x-python",
   "name": "python",
   "nbconvert_exporter": "python",
   "pygments_lexer": "ipython3",
   "version": "3.10.9"
  },
  "orig_nbformat": 4
 },
 "nbformat": 4,
 "nbformat_minor": 2
}
