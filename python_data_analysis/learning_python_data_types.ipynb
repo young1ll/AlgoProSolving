{
 "cells": [
  {
   "attachments": {},
   "cell_type": "markdown",
   "metadata": {},
   "source": [
    "# 1. Python Built-in Data Types\n",
    "\n",
    "- **Built-in objects make program easy to write** : 파이썬 기본 데이터 타입은 컬렉션(`list`), 테이블(`dict`)과 같은 강력한 도구를 제공하기 때문에, 기본 타입만으로도 충분히 많은 작업을 수행할 수 있다.\n",
    "- **Built-in objects are components of extensions** : 나아가, C언어 인터페이스를 사용해 복잡한 자료구조를 구축할 수도 있지만, 수동으로 기본 자료구조 위에 복잡한 자료구조를 구현할 수 있다. *예를 들어 자체 list로 Stack 자료구조를 구현할 수 있다.*\n",
    "- **Built-in objects are often more efficient than custom data structures** : Python은 기존에 C에서 구현된 최적화된 데이터 구조 알고리즘을 사용해 향상된 속도를 제공한다.\n",
    "- **Built-in objects are a standard part of the language :** 한편 Python은 LISP와 C++을 차용했기 때문에 굳이 직접 복잡한 객체 타입을 구현할 필요가 없다. 또한 Python의 기본 자료구조들은 표준화 되어있기 때문에 독점 프레임워크들과는 달리 항상 동일하다.\n",
    "\n",
    "## Python Core Data Types\n",
    "\n",
    "<table>\n",
    "    <tr>\n",
    "        <th>Object Type</th>\n",
    "        <th>Data Type</th>\n",
    "        <th>Example</th>\n",
    "    </tr>\n",
    "    <tr>\n",
    "        <td>None</td>\n",
    "        <td>NoneType</td>\n",
    "        <td><code>x = None</code></td>\n",
    "    </tr>\n",
    "    <tr>\n",
    "        <td>boolean</td>\n",
    "        <td>bool</td>\n",
    "        <td><code>x = True</code></td>\n",
    "    </tr>\n",
    "    <tr>\n",
    "        <td rowspan=\"3\">binary</td>\n",
    "        <td>byte</td>\n",
    "        <td><code>x = b\"Hello\"</code></td>\n",
    "    </tr>\n",
    "    <tr>\n",
    "        <td>bytearray</td>\n",
    "        <td><code>x = bytearray(5)</code></td>\n",
    "    </tr>\n",
    "    <tr>\n",
    "        <td>memoryview</td>\n",
    "        <td><code>x = memoryview(byte(5))</code></td>\n",
    "    </tr>\n",
    "    <tr>\n",
    "        <td rowspan=\"3\">numeric</td>\n",
    "        <td>int</td>\n",
    "        <td><code>x = 20</code></td>\n",
    "    </tr>\n",
    "    <tr>\n",
    "        <td>float</td>\n",
    "        <td><code>x = 20.5</code></td>\n",
    "    </tr>\n",
    "    <tr>\n",
    "        <td>complex</td>\n",
    "        <td><code>x = 1j</code></td>\n",
    "    </tr>\n",
    "    <tr>\n",
    "        <td rowspan=\"4\">sequence</td>\n",
    "        <td>str</td>\n",
    "        <td><code>x = \"Hello World!\"</code></td>\n",
    "    </tr>\n",
    "    <tr>\n",
    "        <td>tuple</td>\n",
    "        <td><code>x = (\"apple\", \"banana\")</code></td>\n",
    "    </tr>\n",
    "    <tr>\n",
    "        <td>list</td>\n",
    "        <td><code>x = [\"apple\", \"banana\", 3.14]</code></td>\n",
    "    </tr>\n",
    "    <tr>\n",
    "        <td>range</td>\n",
    "        <td><code>x = range(5)</code></td>\n",
    "    </tr>\n",
    "    <tr>\n",
    "        <td>map</td>\n",
    "        <td>dict</td>\n",
    "        <td><code>x = {\"name\" : \"Minsu\", \"age\" : 30}</code></td>\n",
    "    </tr>\n",
    "    <tr>\n",
    "        <td rowspan=\"2\">set</td>\n",
    "        <td>set</td>\n",
    "        <td><code>x = {\"apple\", \"banana\"}</code></td>\n",
    "    </tr>\n",
    "    <tr>\n",
    "        <td>frozenset</td>\n",
    "        <td><code>x = frozenset({\"apple\", \"banana\"})</code></td>\n",
    "    </tr>\n",
    "    <tr>\n",
    "        <td>function</td>\n",
    "        <td>function</td>\n",
    "        <td>\n",
    "<pre><code>def my_function:\n",
    "    print(\"my_function!\")</code></pre>\n",
    "        </td>\n",
    "    </tr>\n",
    "</table>"
   ]
  },
  {
   "attachments": {},
   "cell_type": "markdown",
   "metadata": {},
   "source": [
    "# 2. Other Core Data Types\n",
    "\n",
    "## Set Type\n",
    "\n",
    "`set`은 기본 자료형 중 가장 최근에 추가된 기본 자료형이지만, 기존의 `map`과 유사하게 순서가 없고(unordered), `tuple`과 같이 불변형(immutable)이다. 표현식 `set()` 또는 `{...}` 리터럴로 set 객체를 생성할 수 있다."
   ]
  },
  {
   "cell_type": "code",
   "execution_count": 2,
   "metadata": {},
   "outputs": [
    {
     "data": {
      "text/plain": [
       "({'a', 'm', 'p', 's'}, {'a', 'h', 'm'})"
      ]
     },
     "execution_count": 2,
     "metadata": {},
     "output_type": "execute_result"
    }
   ],
   "source": [
    "X = set('spam')\n",
    "Y = {'h', 'a', 'm'}\n",
    "X, Y"
   ]
  },
  {
   "cell_type": "code",
   "execution_count": 4,
   "metadata": {},
   "outputs": [
    {
     "data": {
      "text/plain": [
       "{'a', 'm'}"
      ]
     },
     "execution_count": 4,
     "metadata": {},
     "output_type": "execute_result"
    }
   ],
   "source": [
    "X & Y # 교집합"
   ]
  },
  {
   "cell_type": "code",
   "execution_count": 5,
   "metadata": {},
   "outputs": [
    {
     "data": {
      "text/plain": [
       "{'a', 'h', 'm', 'p', 's'}"
      ]
     },
     "execution_count": 5,
     "metadata": {},
     "output_type": "execute_result"
    }
   ],
   "source": [
    "X | Y # 합집합"
   ]
  },
  {
   "cell_type": "code",
   "execution_count": 6,
   "metadata": {},
   "outputs": [
    {
     "data": {
      "text/plain": [
       "{'p', 's'}"
      ]
     },
     "execution_count": 6,
     "metadata": {},
     "output_type": "execute_result"
    }
   ],
   "source": [
    "X - Y # 차집합"
   ]
  },
  {
   "cell_type": "code",
   "execution_count": 8,
   "metadata": {},
   "outputs": [
    {
     "data": {
      "text/plain": [
       "False"
      ]
     },
     "execution_count": 8,
     "metadata": {},
     "output_type": "execute_result"
    }
   ],
   "source": [
    "X > Y # 부분집합(superset)"
   ]
  },
  {
   "cell_type": "code",
   "execution_count": 9,
   "metadata": {},
   "outputs": [
    {
     "data": {
      "text/plain": [
       "{1, 4, 9, 16}"
      ]
     },
     "execution_count": 9,
     "metadata": {},
     "output_type": "execute_result"
    }
   ],
   "source": [
    "{n ** 2 for n in [1, 2, 3, 4]} # Set comprehension"
   ]
  },
  {
   "attachments": {},
   "cell_type": "markdown",
   "metadata": {},
   "source": [
    "또한 `set`은 멤버십 테스트를 지원한다."
   ]
  },
  {
   "cell_type": "code",
   "execution_count": 10,
   "metadata": {},
   "outputs": [
    {
     "data": {
      "text/plain": [
       "(True, True, True)"
      ]
     },
     "execution_count": 10,
     "metadata": {},
     "output_type": "execute_result"
    }
   ],
   "source": [
    "'p' in set('spam'), 'p' in 'spam', 'ham' in ['eggs', 'spam', 'ham']"
   ]
  },
  {
   "attachments": {},
   "cell_type": "markdown",
   "metadata": {},
   "source": [
    "## New Numeric Types\n",
    "기존의 Python이 가진 부동소수점 연산의 한계와 부정확성을 해결하기 위해 **고정소수점 십진수**와 **분수**(분자와 분모가 있는 유리수)를 추가했다."
   ]
  },
  {
   "cell_type": "code",
   "execution_count": 13,
   "metadata": {},
   "outputs": [
    {
     "data": {
      "text/plain": [
       "0.3333333333333333"
      ]
     },
     "execution_count": 13,
     "metadata": {},
     "output_type": "execute_result"
    }
   ],
   "source": [
    "1 /3 # 부동소수점"
   ]
  },
  {
   "cell_type": "code",
   "execution_count": 14,
   "metadata": {},
   "outputs": [
    {
     "data": {
      "text/plain": [
       "1.1666666666666665"
      ]
     },
     "execution_count": 14,
     "metadata": {},
     "output_type": "execute_result"
    }
   ],
   "source": [
    "(2/3) + (1/2) # 부동소수점"
   ]
  },
  {
   "cell_type": "code",
   "execution_count": 15,
   "metadata": {},
   "outputs": [
    {
     "data": {
      "text/plain": [
       "Decimal('4.141')"
      ]
     },
     "execution_count": 15,
     "metadata": {},
     "output_type": "execute_result"
    }
   ],
   "source": [
    "# 십진수 : 고정소수점\n",
    "import decimal\n",
    "d = decimal.Decimal('3.141')\n",
    "d + 1"
   ]
  },
  {
   "cell_type": "code",
   "execution_count": 16,
   "metadata": {},
   "outputs": [
    {
     "data": {
      "text/plain": [
       "Decimal('0.33')"
      ]
     },
     "execution_count": 16,
     "metadata": {},
     "output_type": "execute_result"
    }
   ],
   "source": [
    "decimal.getcontext().prec = 2\n",
    "decimal.Decimal('1.00') / decimal.Decimal('3.00')"
   ]
  },
  {
   "cell_type": "code",
   "execution_count": 17,
   "metadata": {},
   "outputs": [
    {
     "data": {
      "text/plain": [
       "Fraction(5, 3)"
      ]
     },
     "execution_count": 17,
     "metadata": {},
     "output_type": "execute_result"
    }
   ],
   "source": [
    "# 분수\n",
    "from fractions import Fraction\n",
    "f = Fraction(2, 3)\n",
    "f + 1"
   ]
  },
  {
   "cell_type": "code",
   "execution_count": 18,
   "metadata": {},
   "outputs": [
    {
     "data": {
      "text/plain": [
       "Fraction(7, 6)"
      ]
     },
     "execution_count": 18,
     "metadata": {},
     "output_type": "execute_result"
    }
   ],
   "source": [
    "f + Fraction(1, 2)"
   ]
  }
 ],
 "metadata": {
  "kernelspec": {
   "display_name": "Python 3",
   "language": "python",
   "name": "python3"
  },
  "language_info": {
   "codemirror_mode": {
    "name": "ipython",
    "version": 3
   },
   "file_extension": ".py",
   "mimetype": "text/x-python",
   "name": "python",
   "nbconvert_exporter": "python",
   "pygments_lexer": "ipython3",
   "version": "3.10.8"
  },
  "orig_nbformat": 4
 },
 "nbformat": 4,
 "nbformat_minor": 2
}
