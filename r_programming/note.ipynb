{
 "cells": [
  {
   "attachments": {},
   "cell_type": "markdown",
   "metadata": {},
   "source": []
  },
  {
   "attachments": {},
   "cell_type": "markdown",
   "metadata": {},
   "source": [
    "# 2023-04-04\n",
    "## 데이터 종류\n",
    "- **정형(테이블)** : SQL\n",
    "- **비정형(테이블x)** : 이미지, 사운드...신호\n",
    "---\n",
    "- **시계열(테이블)** : x축에 '일정한' 간격이 있는 테이블(정형 테이블과 구별)\n",
    "    - 시간(간격)만이 독립변수 : 다른 데이터와 구별되는 특징\n",
    "    - 시계열 데이터의 핵심을 시간이 아니라 간격\n",
    "    - ex) 동년동월, 전년대비...\"주기성\"\n",
    "    - 자기상관관계 ARIMA\n",
    "    - 추세 경향성\n",
    "    - 계절성(특정 기간에 한정), 순환성(반복되는 경향을 찾음 ex.노이즈캔슬링)\n",
    "    - 금융회사는 시계열 데이터를 쓰지만, 다른 데이터를 사용한다. 금융은 시간만이 독립변수가 아니기 때문에...\n",
    "    - 반면 페이스북은 대표적인 시계열 데이터를 사용하는 회사.\n",
    "        - 광고 모델(접속 체류율 등...) : **Prophet**\n",
    "    - 다중시계열"
   ]
  },
  {
   "attachments": {},
   "cell_type": "markdown",
   "metadata": {},
   "source": [
    "## Toy Project\n",
    "- 회귀 : 캘리포니아 집값\n",
    "- 분류 : 타이타닉(캐글에서 진행)\n",
    "- 시계열 : 팔당댐, 코인, 아파트, 주식...(데이콘)\n",
    "\n",
    "\\#\n",
    "- 간단한 보고서\n",
    "    -> '간단한'?\n",
    "- 12시간\n",
    "\n",
    "### Python <-> R\n",
    "- Python(<= 3.10.x) | VSCode | 모든 통합개발환경이 동일하도록(버그도 재현되어야 한다.)\n",
    "- Pandas, Matplotlib, Scikit-Learn\n",
    "- \\+ TF/Torch(정형, 비정형)\n",
    "- \\+ prophet(시계열)\n",
    "\n",
    "---\n",
    "### 환경구성\n"
   ]
  }
 ],
 "metadata": {
  "language_info": {
   "name": "python"
  },
  "orig_nbformat": 4
 },
 "nbformat": 4,
 "nbformat_minor": 2
}
